{
 "cells": [
  {
   "cell_type": "code",
   "execution_count": 1,
   "id": "9aada7f0-132f-471d-9a54-9394803b915b",
   "metadata": {},
   "outputs": [],
   "source": [
    "import pandas as pd\n",
    "import matplotlib.pyplot as plt"
   ]
  },
  {
   "cell_type": "code",
   "execution_count": 2,
   "id": "54d1cd9d-4ca1-497f-a722-61a3c09e937e",
   "metadata": {},
   "outputs": [],
   "source": [
    "data = pd.read_csv('./rcdb.csv')"
   ]
  },
  {
   "cell_type": "code",
   "execution_count": 3,
   "id": "ce879800-99ad-4735-8e71-68858a0daf78",
   "metadata": {},
   "outputs": [
    {
     "data": {
      "text/plain": [
       "0     1840\n",
       "1     1840\n",
       "2     1860\n",
       "3     2170\n",
       "4     1710\n",
       "5     1780\n",
       "6     1910\n",
       "7     1800\n",
       "8     1860\n",
       "9     1910\n",
       "10    1850\n",
       "11    1870\n",
       "12    1900\n",
       "13    1875\n",
       "14    1865\n",
       "15    1865\n",
       "16    1868\n",
       "17    1866\n",
       "18    1882\n",
       "19    1907\n",
       "Name: Age_BP, dtype: int64"
      ]
     },
     "execution_count": 3,
     "metadata": {},
     "output_type": "execute_result"
    }
   ],
   "source": [
    "data['Age_BP']"
   ]
  },
  {
   "cell_type": "code",
   "execution_count": 46,
   "id": "e8575b37-3d7f-461c-9829-54ea944d36c3",
   "metadata": {},
   "outputs": [
    {
     "data": {
      "image/png": "[encoded data removed]",
      "text/plain": [
       "<Figure size 432x288 with 1 Axes>"
      ]
     },
     "metadata": {
      "needs_background": "light"
     },
     "output_type": "display_data"
    }
   ],
   "source": [
    "plt.boxplot(data['Age_BP'])\n",
    "plt.title('Namgyeri AMS')\n",
    "plt.xticks([1], ['yeoncheon1'])\n",
    "plt.ylabel('Age(BP)')\n",
    "plt.savefig('./YC-NG-boxplot.png')"
   ]
  },
  {
   "cell_type": "code",
   "execution_count": null,
   "id": "0adcaf7c-aaf3-4f5c-8d8a-827e258e7018",
   "metadata": {},
   "outputs": [],
   "source": []
  }
 ],
 "metadata": {
  "kernelspec": {
   "display_name": "Python 3 (ipykernel)",
   "language": "python",
   "name": "python3"
  },
  "language_info": {
   "codemirror_mode": {
    "name": "ipython",
    "version": 3
   },
   "file_extension": ".py",
   "mimetype": "text/x-python",
   "name": "python",
   "nbconvert_exporter": "python",
   "pygments_lexer": "ipython3",
   "version": "3.9.9"
  }
 },
 "nbformat": 4,
 "nbformat_minor": 5
}
