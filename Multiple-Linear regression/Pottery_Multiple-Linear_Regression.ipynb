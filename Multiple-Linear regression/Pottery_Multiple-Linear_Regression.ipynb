{
 "cells": [
  {
   "cell_type": "code",
   "execution_count": 5,
   "metadata": {},
   "outputs": [],
   "source": [
    "import pandas as pd\n",
    "from matplotlib import pyplot as plt\n",
    "from sklearn.linear_model import LinearRegression\n",
    "from sklearn.model_selection import train_test_split"
   ]
  },
  {
   "cell_type": "code",
   "execution_count": 6,
   "metadata": {},
   "outputs": [],
   "source": [
    "data = pd.read_csv(\"Kim_2009_Data.csv\")"
   ]
  },
  {
   "cell_type": "code",
   "execution_count": 7,
   "metadata": {},
   "outputs": [],
   "source": [
    "X = data[['구경', '목지름', '견부각', '기고']]\n",
    "Y = data['실용량']\n",
    "\n",
    "X_train, X_test, Y_train, Y_test = train_test_split(X, Y, train_size=0.6, test_size=0.4)"
   ]
  },
  {
   "cell_type": "code",
   "execution_count": 8,
   "metadata": {},
   "outputs": [],
   "source": [
    "MLR = LinearRegression()\n",
    "MLR.fit(X_train, Y_train)\n",
    "\n",
    "Y_predict = MLR.predict(X_test)"
   ]
  },
  {
   "cell_type": "code",
   "execution_count": 9,
   "metadata": {},
   "outputs": [
    {
     "data": {
      "image/png": "[encoded data removed]",
      "text/plain": [
       "<Figure size 432x288 with 1 Axes>"
      ]
     },
     "metadata": {
      "needs_background": "light"
     },
     "output_type": "display_data"
    }
   ],
   "source": [
    "plt.scatter(Y_test, Y_predict)\n",
    "plt.xlabel(\"Real Capacity\")\n",
    "plt.ylabel(\"Prediction Capacity\")\n",
    "plt.title(\"\")\n",
    "plt.show()"
   ]
  },
  {
   "cell_type": "code",
   "execution_count": 10,
   "metadata": {},
   "outputs": [
    {
     "name": "stdout",
     "output_type": "stream",
     "text": [
      "[-0.25614389  0.29333272  0.01570088  0.19204081]\n",
      "-3.029172025597084\n",
      "Score : 0.977765\n"
     ]
    }
   ],
   "source": [
    "print(MLR.coef_)\n",
    "print(MLR.intercept_)\n",
    "print(\"Score : %f\" % MLR.score(X_train, Y_train))"
   ]
  },
  {
   "cell_type": "code",
   "execution_count": 11,
   "metadata": {},
   "outputs": [
    {
     "data": {
      "image/png": "[encoded data removed]",
      "text/plain": [
       "<Figure size 432x288 with 4 Axes>"
      ]
     },
     "metadata": {
      "needs_background": "light"
     },
     "output_type": "display_data"
    }
   ],
   "source": [
    "plt.subplot(221)\n",
    "plt.scatter(data['구경'], data['실용량'])\n",
    "plt.xlabel('Caliber')\n",
    "plt.ylabel('Capacity')\n",
    "\n",
    "plt.subplot(222)\n",
    "plt.scatter(data['목지름'], data['실용량'])\n",
    "plt.xlabel('Neck diameter')\n",
    "plt.ylabel('Capacity')\n",
    "\n",
    "plt.subplot(223)\n",
    "plt.scatter(data['견부각'], data['실용량'])\n",
    "plt.xlabel('Shoulder angle')\n",
    "plt.ylabel('Capacity')\n",
    "\n",
    "plt.subplot(224)\n",
    "plt.scatter(data['기고'], data['실용량'])\n",
    "plt.xlabel('Height')\n",
    "plt.ylabel('Capacity')\n",
    "\n",
    "plt.show()"
   ]
  },
  {
   "cell_type": "code",
   "execution_count": 12,
   "metadata": {},
   "outputs": [
    {
     "name": "stdout",
     "output_type": "stream",
     "text": [
      "[ 0.10362271 -0.10599661  0.17239488]\n",
      "-1.3910426379125511\n",
      "Score : 0.954672\n"
     ]
    }
   ],
   "source": [
    "X2 = data[['구경', '목지름', '기고']]\n",
    "Y2 = data['실용량']\n",
    "\n",
    "X2_train, X2_test, Y2_train, Y2_test = train_test_split(X2, Y2, train_size=0.6, test_size=0.4)\n",
    "\n",
    "MLR2 = LinearRegression()\n",
    "MLR2.fit(X2_train, Y2_train)\n",
    "\n",
    "Y2_predict = MLR2.predict(X2_test)\n",
    "\n",
    "print(MLR2.coef_)\n",
    "print(MLR2.intercept_)\n",
    "print(\"Score : %f\" % MLR2.score(X2_train, Y2_train))"
   ]
  },
  {
   "cell_type": "code",
   "execution_count": null,
   "metadata": {},
   "outputs": [],
   "source": []
  }
 ],
 "metadata": {
  "kernelspec": {
   "display_name": "Python 3",
   "language": "python",
   "name": "python3"
  },
  "language_info": {
   "codemirror_mode": {
    "name": "ipython",
    "version": 3
   },
   "file_extension": ".py",
   "mimetype": "text/x-python",
   "name": "python",
   "nbconvert_exporter": "python",
   "pygments_lexer": "ipython3",
   "version": "3.9.0"
  }
 },
 "nbformat": 4,
 "nbformat_minor": 4
}