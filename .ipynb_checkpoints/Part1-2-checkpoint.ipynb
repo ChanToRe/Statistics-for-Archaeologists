{
 "cells": [
  {
   "cell_type": "code",
   "execution_count": 36,
   "metadata": {},
   "outputs": [],
   "source": [
    "import pandas as pd\n",
    "import numpy as np\n",
    "from scipy import stats\n",
    "import stemgraphic"
   ]
  },
  {
   "cell_type": "code",
   "execution_count": 52,
   "metadata": {},
   "outputs": [],
   "source": [
    "data = pd.read_csv(\"/Users/jch/Documents/github/Study/Statistics_for_Archaeologists/Part1-1.csv\")"
   ]
  },
  {
   "cell_type": "code",
   "execution_count": 53,
   "metadata": {},
   "outputs": [],
   "source": [
    "is_data_pr = data['Site'] == 'PR'\n",
    "data_PR = data[is_data_pr]\n",
    "\n",
    "is_data_wf = data['Site'] == \"WF\"\n",
    "data_WF = data[is_data_wf]\n",
    "\n",
    "is_data_Chert = data['Stone type'] == \"Chert\"\n",
    "data_Chert = data[is_data_Chert]\n",
    "\n",
    "is_data_Flint = data['Stone type'] == 'Flint'\n",
    "data_Flint = data[is_data_Flint]"
   ]
  },
  {
   "cell_type": "code",
   "execution_count": 54,
   "metadata": {},
   "outputs": [
    {
     "name": "stdout",
     "output_type": "stream",
     "text": [
      "PR 평균 : 23.429\n",
      "PR 중앙값 : 22.000\n",
      "PR 절사평균(0.05) : 23.429\n",
      "WF 평균 : 34.632\n",
      "WF 중앙값 : 39.400\n",
      "WF 절사평균 : 33.493\n"
     ]
    }
   ],
   "source": [
    "#연습문제1\n",
    "PR_mean = data_PR['Length(mm)'].mean()\n",
    "PR_median = data_PR['Length(mm)'].median()\n",
    "PR_trim_mean = stats.trim_mean(data_PR['Length(mm)'], 0.05)\n",
    "\n",
    "WF_mean = data_WF['Length(mm)'].mean()\n",
    "WF_median = data_WF['Length(mm)'].median()\n",
    "WF_trim_mean = stats.trim_mean(data_WF['Length(mm)'], 0.05)\n",
    "\n",
    "print(\"PR 평균 : %0.3f\" % PR_mean)\n",
    "print(\"PR 중앙값 : %0.3f\" % PR_median)\n",
    "print(\"PR 절사평균(0.05) : %0.3f\" % PR_trim_mean)\n",
    "\n",
    "print(\"WF 평균 : %0.3f\" % WF_mean)\n",
    "print(\"WF 중앙값 : %0.3f\" % WF_median)\n",
    "print(\"WF 절사평균 : %0.3f\" % WF_trim_mean)"
   ]
  },
  {
   "cell_type": "code",
   "execution_count": 55,
   "metadata": {},
   "outputs": [
    {
     "name": "stdout",
     "output_type": "stream",
     "text": [
      "Chert 평균 : 18.387\n",
      "Chert 중앙값 : 19.650\n",
      "Chert 절사평균(0.05) : 18.595\n",
      "Flint 평균 : 42.942\n",
      "Flint 중앙값 : 42.000\n",
      "Flint 절사평균 : 41.509\n"
     ]
    }
   ],
   "source": [
    "#연습문제2\n",
    "Chert_mean = data_Chert['Length(mm)'].mean()\n",
    "Chert_median = data_Chert['Length(mm)'].median()\n",
    "Chert_trim_mean = stats.trim_mean(data_Chert['Length(mm)'], 0.05)\n",
    "\n",
    "Flint_mean = data_Flint['Length(mm)'].mean()\n",
    "Flint_median = data_Flint['Length(mm)'].median()\n",
    "Flint_trim_mean = stats.trim_mean(data_Flint['Length(mm)'], 0.05)\n",
    "\n",
    "print(\"Chert 평균 : %0.3f\" % Chert_mean)\n",
    "print(\"Chert 중앙값 : %0.3f\" % Chert_median)\n",
    "print(\"Chert 절사평균(0.05) : %0.3f\" % Chert_trim_mean)\n",
    "\n",
    "print(\"Flint 평균 : %0.3f\" % Flint_mean)\n",
    "print(\"Flint 중앙값 : %0.3f\" % Flint_median)\n",
    "print(\"Flint 절사평균 : %0.3f\" % Flint_trim_mean)"
   ]
  }
 ],
 "metadata": {
  "kernelspec": {
   "display_name": "Python 3",
   "language": "python",
   "name": "python3"
  },
  "language_info": {
   "codemirror_mode": {
    "name": "ipython",
    "version": 3
   },
   "file_extension": ".py",
   "mimetype": "text/x-python",
   "name": "python",
   "nbconvert_exporter": "python",
   "pygments_lexer": "ipython3",
   "version": "3.9.0"
  }
 },
 "nbformat": 4,
 "nbformat_minor": 4
}
