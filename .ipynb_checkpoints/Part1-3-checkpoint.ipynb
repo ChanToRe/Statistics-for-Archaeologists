{
 "cells": [
  {
   "cell_type": "code",
   "execution_count": 166,
   "metadata": {},
   "outputs": [],
   "source": [
    "import pandas as pd\n",
    "import numpy as np\n",
    "from scipy import stats\n",
    "from scipy.stats import iqr\n",
    "import stemgraphic"
   ]
  },
  {
   "cell_type": "code",
   "execution_count": 67,
   "metadata": {
    "scrolled": true
   },
   "outputs": [],
   "source": [
    "data = pd.read_csv(\"/Users/jch/Documents/github/Study/Statistics_for_Archaeologists/Part1-3.csv\")"
   ]
  },
  {
   "cell_type": "code",
   "execution_count": 66,
   "metadata": {},
   "outputs": [],
   "source": [
    "is_data_Early = data['Age'] == 'Early Bronze Age'\n",
    "data_Early = data[is_data_Early]\n",
    "\n",
    "is_data_Late = data['Age'] == 'Late Bronze Age'\n",
    "data_Late = data[is_data_Late]"
   ]
  },
  {
   "cell_type": "code",
   "execution_count": 65,
   "metadata": {},
   "outputs": [
    {
     "data": {
      "text/plain": [
       "(<Figure size 360x234 with 2 Axes>, <AxesSubplot:>)"
      ]
     },
     "execution_count": 65,
     "metadata": {},
     "output_type": "execute_result"
    },
    {
     "data": {
      "image/png": "[encoded data removed]",
      "text/plain": [
       "<Figure size 360x234 with 2 Axes>"
      ]
     },
     "metadata": {
      "needs_background": "light"
     },
     "output_type": "display_data"
    }
   ],
   "source": [
    "#연습문제1\n",
    "stemgraphic.stem_graphic(data_Early[\"Site(ha)\"], df2 = data_Late[\"Site(ha)\"], scale = 1)"
   ]
  },
  {
   "cell_type": "code",
   "execution_count": 171,
   "metadata": {},
   "outputs": [],
   "source": [
    "#연습문제2\n",
    "#중앙값 / 중앙산포\n",
    "Early_mid = data_Early[\"Site(ha)\"].median()\n",
    "Early_iqr = iqr(data_Early['Site(ha)'])\n",
    "Late_mid = data_Late[\"Site(ha)\"].median()\n",
    "Late_iqr = iqr(data_Late['Site(ha)'])\n",
    "\n",
    "#평균 / 표준편차\n",
    "Early_mean = data_Early[\"Site(ha)\"].mean()\n",
    "Early_std = data_Early[\"Site(ha)\"].std()\n",
    "Late_mean = data_Late[\"Site(ha)\"].mean()\n",
    "Late_std = data_Late[\"Site(ha)\"].std()\n",
    "\n",
    "#절사평균 / 절사표준편차\n",
    "Early_trim_mean = stats.mstats.trimmed_mean(data_Early[\"Site(ha)\"], 0.10)\n",
    "Early_trim_std = stats.mstats.trimmed_std(data_Early[\"Site(ha)\"], 0.10)\n",
    "Late_trim_mean = stats.mstats.trimmed_mean(data_Late[\"Site(ha)\"], 0.10)\n",
    "Late_trim_std = stats.mstats.trimmed_std(data_Late[\"Site(ha)\"], 0.10)"
   ]
  },
  {
   "cell_type": "code",
   "execution_count": 173,
   "metadata": {},
   "outputs": [
    {
     "name": "stdout",
     "output_type": "stream",
     "text": [
      "Early Bronze Age 중앙값 : 1.900\n",
      "Early Bronze Age 중앙산포 : 1.125\n",
      "Late Bronze Age 중앙값 : 5.400\n",
      "Late Bronze Age 중앙산포 : 3.100\n",
      "\n",
      "Early Bronze Age 평균 : 1.863\n",
      "Early Bronze Age 표준편차 : 0.820\n",
      "Late Bronze Age 평균 : 6.219\n",
      "Late Bronze Age 표준편차 : 2.790\n",
      "\n",
      "Early Bronze Age 절사평균(0.10) : 1.820\n",
      "Early Bronze Age 절사표준편차(0.10) : 0.533\n",
      "Late Bronze Age 절사평균(0.10) : 5.965\n",
      "Late Bronze Age 절사표준편차(0.10) : 2.055\n"
     ]
    }
   ],
   "source": [
    "print(\"Early Bronze Age 중앙값 : %0.3f\" % Early_mid)\n",
    "print(\"Early Bronze Age 중앙산포 : %0.3f\" % Early_iqr)\n",
    "print(\"Late Bronze Age 중앙값 : %0.3f\" % Late_mid)\n",
    "print(\"Late Bronze Age 중앙산포 : %0.3f\\n\" % Late_iqr)\n",
    "\n",
    "print(\"Early Bronze Age 평균 : %0.3f\" % Early_mean)\n",
    "print(\"Early Bronze Age 표준편차 : %0.3f\" % Early_std)\n",
    "print(\"Late Bronze Age 평균 : %0.3f\" % Late_mean)\n",
    "print(\"Late Bronze Age 표준편차 : %0.3f\\n\" % Late_std)\n",
    "\n",
    "print(\"Early Bronze Age 절사평균(0.10) : %0.3f\" % Early_trim_mean)\n",
    "print(\"Early Bronze Age 절사표준편차(0.10) : %0.3f\" % Early_trim_std)\n",
    "print(\"Late Bronze Age 절사평균(0.10) : %0.3f\" % Late_trim_mean)\n",
    "print(\"Late Bronze Age 절사표준편차(0.10) : %0.3f\" % Late_trim_std)"
   ]
  }
 ],
 "metadata": {
  "kernelspec": {
   "display_name": "Python 3",
   "language": "python",
   "name": "python3"
  },
  "language_info": {
   "codemirror_mode": {
    "name": "ipython",
    "version": 3
   },
   "file_extension": ".py",
   "mimetype": "text/x-python",
   "name": "python",
   "nbconvert_exporter": "python",
   "pygments_lexer": "ipython3",
   "version": "3.9.0"
  }
 },
 "nbformat": 4,
 "nbformat_minor": 4
}
